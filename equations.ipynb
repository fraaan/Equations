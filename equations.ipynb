{
 "cells": [
  {
   "cell_type": "markdown",
   "metadata": {},
   "source": [
    "# Equations\n",
    "\n",
    "Following taken from Medium https://medium.com/analytics-vidhya/writing-math-equations-in-jupyter-notebook-a-naive-introduction-a5ce87b9a214\n",
    "\n",
    "\n",
    "<code>$ : All the Math you want to write in the markdown should be inside opening and closing $ symbol in order to be processed as Math.</code>\n",
    "\n",
    "<code>\\beta : Creates the symbol beta</code>\n",
    "\n",
    "<code>\\hat{} : A hat is covered over anything inside the curly braces of \\hat{}. E.g. in \\hat{Y} hat is created over Y and in \\hat{\\beta}_{0},  hat is shown over beta</code>\n",
    "\n",
    "<code>_{} : Creates as subscript, anything inside the curly braces after _. E.g. \\hat{\\beta}_{0} will create beta with a hat and give it a subscript of 0.</code>\n",
    "\n",
    "<code>^{} : (Similar to subscript) Creates as superscript, anything inside the curly braces after ^.\n",
    "\\sum : Creates the summation symbol</code>\n",
    "\n",
    "<code>\\limits _{} ^{} : Creates lower and upper limit for the \\sum using the subscript and superscript notation. </code>\n"
   ]
  },
  {
   "cell_type": "markdown",
   "metadata": {},
   "source": [
    "<a id=\"top\"></a>\n",
    "### Table of Contents\n",
    "\n",
    "<ul style=\"list-style:none;\">\n",
    "<li>1.0 <a href=\"#linear\">Linear</a></li>\n",
    "<li>2.0 <a href=\"#two\">Section 2</a></li>    \n",
    "<li>3.0 <a href=\"#three\">Section 3</a></li>\n",
    "<li>4.0 <a href=\"#four\">Section 4</a></li>\n",
    "<li>5.0 <a href=\"#five\">Section 5</a></li> \n",
    "<li>6.0 <a href=\"#six\">Section 6</a></li> \n",
    "<li>7.0 <a href=\"#seven\">Section 7</a></li> \n",
    "    \n",
    "----------------------------------------------------------------------"
   ]
  },
  {
   "cell_type": "markdown",
   "metadata": {},
   "source": [
    "<a name=\"linear\"></a>\n",
    "## 1 Linear Model\n",
    "\n",
    "$\\hat{Y} = \\hat{\\beta}_{0} + \\sum \\limits _{j=1} ^{p} X_{j}\\hat{\\beta}_{j} $"
   ]
  },
  {
   "cell_type": "markdown",
   "metadata": {},
   "source": [
    "--------------\n",
    "[Return to top](#top)"
   ]
  }
 ],
 "metadata": {
  "kernelspec": {
   "display_name": "Python 3",
   "language": "python",
   "name": "python3"
  },
  "language_info": {
   "codemirror_mode": {
    "name": "ipython",
    "version": 3
   },
   "file_extension": ".py",
   "mimetype": "text/x-python",
   "name": "python",
   "nbconvert_exporter": "python",
   "pygments_lexer": "ipython3",
   "version": "3.7.3"
  }
 },
 "nbformat": 4,
 "nbformat_minor": 2
}
